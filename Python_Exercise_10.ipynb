{
  "nbformat": 4,
  "nbformat_minor": 0,
  "metadata": {
    "colab": {
      "provenance": [],
      "authorship_tag": "ABX9TyMbO0qS6QUd/y71HgYjYa4m",
      "include_colab_link": true
    },
    "kernelspec": {
      "name": "python3",
      "display_name": "Python 3"
    },
    "language_info": {
      "name": "python"
    }
  },
  "cells": [
    {
      "cell_type": "markdown",
      "metadata": {
        "id": "view-in-github",
        "colab_type": "text"
      },
      "source": [
        "<a href=\"https://colab.research.google.com/github/jes-coder/Linear-Algebra---58013/blob/main/Python_Exercise_10.ipynb\" target=\"_parent\"><img src=\"https://colab.research.google.com/assets/colab-badge.svg\" alt=\"Open In Colab\"/></a>"
      ]
    },
    {
      "cell_type": "code",
      "execution_count": 3,
      "metadata": {
        "colab": {
          "base_uri": "https://localhost:8080/"
        },
        "id": "lpiJMzzc4YL1",
        "outputId": "c12264bf-84a8-44c8-866a-ab2d1aaf0eea"
      },
      "outputs": [
        {
          "output_type": "stream",
          "name": "stdout",
          "text": [
            "[[ 1.  1.  1.]\n",
            " [ 3. -2. -1.]\n",
            " [-1.  4.  2.]]\n",
            "(3, 3)\n",
            "[[ 1.]\n",
            " [ 4.]\n",
            " [-3.]]\n",
            "(3, 1)\n"
          ]
        }
      ],
      "source": [
        "import numpy as np\n",
        "\n",
        "X = np.array([\n",
        "    [1, 1, 1],\n",
        "    [3, -2, -1],\n",
        "    [-1, 4, 2]\n",
        "], dtype=float)\n",
        "\n",
        "Y = np.array([\n",
        "    [1],\n",
        "    [4],\n",
        "    [-3]\n",
        "], dtype=float)\n",
        "\n",
        "print(X)\n",
        "print(X.shape)\n",
        "print(Y)\n",
        "print(Y.shape)\n"
      ]
    },
    {
      "cell_type": "code",
      "source": [
        "# Create a python program to solve for the price of flour per sack, yeast per pack, and one piece of egg.\n",
        "\n",
        "import numpy as np\n",
        "\n",
        "# Define the coefficient matrix X and the constant vector Y\n",
        "X = np.array([[30, 10, 120],\n",
        "              [40, 20, 200],\n",
        "              [50, 40, 360]], dtype=float)\n",
        "\n",
        "Y = np.array([12500, 18000, 25700], dtype=float)\n",
        "\n",
        "# Solve for the prices using NumPy's linear algebra solver\n",
        "prices = np.linalg.solve(X, Y)\n",
        "\n",
        "# Extract the prices of flour, yeast, and eggs\n",
        "flour_price, yeast_price, egg_price = prices\n",
        "\n",
        "# Print the results\n",
        "print(f\"The price of one sack of flour is {flour_price:.2f} pesos.\")\n",
        "print(f\"The price of one pack of yeast is {yeast_price:.2f} pesos.\")\n",
        "print(f\"The price of one egg is {egg_price:.2f} pesos.\")\n"
      ],
      "metadata": {
        "colab": {
          "base_uri": "https://localhost:8080/"
        },
        "id": "kfHK_cEn5wQ0",
        "outputId": "9f646d72-181a-4c23-ae96-22e682f4d00a"
      },
      "execution_count": 4,
      "outputs": [
        {
          "output_type": "stream",
          "name": "stdout",
          "text": [
            "The price of one sack of flour is 330.00 pesos.\n",
            "The price of one pack of yeast is 140.00 pesos.\n",
            "The price of one egg is 10.00 pesos.\n"
          ]
        }
      ]
    }
  ]
}