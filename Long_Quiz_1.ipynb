{
  "nbformat": 4,
  "nbformat_minor": 0,
  "metadata": {
    "colab": {
      "provenance": [],
      "authorship_tag": "ABX9TyOK0A6qJ6V8apXwXrOTW10F",
      "include_colab_link": true
    },
    "kernelspec": {
      "name": "python3",
      "display_name": "Python 3"
    },
    "language_info": {
      "name": "python"
    }
  },
  "cells": [
    {
      "cell_type": "markdown",
      "metadata": {
        "id": "view-in-github",
        "colab_type": "text"
      },
      "source": [
        "<a href=\"https://colab.research.google.com/github/jes-coder/Linear-Algebra---58013/blob/main/Long_Quiz_1.ipynb\" target=\"_parent\"><img src=\"https://colab.research.google.com/assets/colab-badge.svg\" alt=\"Open In Colab\"/></a>"
      ]
    },
    {
      "cell_type": "code",
      "execution_count": 1,
      "metadata": {
        "colab": {
          "base_uri": "https://localhost:8080/"
        },
        "id": "89nu28MkZ3Q2",
        "outputId": "97fc98d1-dbd9-4648-bbaa-a376e51cc68c"
      },
      "outputs": [
        {
          "output_type": "stream",
          "name": "stdout",
          "text": [
            "Result of AB:\n",
            "[[248]\n",
            " [554]]\n",
            "\n",
            "Result of D + D:\n",
            "[[24 68]]\n",
            "\n",
            "Result of 2C:\n",
            "[[ 2  4  6]\n",
            " [ 8 10 12]\n",
            " [14 16 18]]\n"
          ]
        }
      ],
      "source": [
        "#Problem 1. Consider the four matrices, (20 points each)\n",
        "\n",
        "import numpy as np\n",
        "\n",
        "# Define the matrices\n",
        "A = np.array([[1, 2, 3], [4, 5, 6]])\n",
        "B = np.array([[12], [34], [56]])\n",
        "C = np.array([[1, 2, 3], [4, 5, 6], [7, 8, 9]])\n",
        "D = np.array([[12, 34]])\n",
        "\n",
        "# a. AB\n",
        "result_a = np.dot(A, B)\n",
        "\n",
        "# b. D + D\n",
        "result_b = D + D\n",
        "\n",
        "# c. 2C\n",
        "result_c = 2 * C\n",
        "\n",
        "# Print the results\n",
        "print(\"Result of AB:\")\n",
        "print(result_a)\n",
        "\n",
        "print(\"\\nResult of D + D:\")\n",
        "print(result_b)\n",
        "\n",
        "print(\"\\nResult of 2C:\")\n",
        "print(result_c)"
      ]
    },
    {
      "cell_type": "code",
      "source": [
        "#Problem 2. Find the cross-product of matrices, A = [2,7,4] and\n",
        "#B = [3,9,8]. Show your solutions using Python program . (40 points)\n",
        "\n",
        "import numpy as np\n",
        "\n",
        "# Define the matrices\n",
        "A = np.array([2, 7, 4])\n",
        "B = np.array([3, 9, 8])\n",
        "\n",
        "# Calculate the cross product\n",
        "cross_product = np.cross(A, B)\n",
        "\n",
        "# result\n",
        "print(\"Cross product of A and B: \")\n",
        "print(cross_product)"
      ],
      "metadata": {
        "colab": {
          "base_uri": "https://localhost:8080/"
        },
        "id": "KbqrCv4bc362",
        "outputId": "61fc0be3-f401-45ab-8c4c-d6e05fa7de4b"
      },
      "execution_count": 3,
      "outputs": [
        {
          "output_type": "stream",
          "name": "stdout",
          "text": [
            "Cross product of A and B: \n",
            "[20 -4 -3]\n"
          ]
        }
      ]
    }
  ]
}