{
  "nbformat": 4,
  "nbformat_minor": 0,
  "metadata": {
    "colab": {
      "provenance": [],
      "include_colab_link": true
    },
    "kernelspec": {
      "name": "python3",
      "display_name": "Python 3"
    },
    "language_info": {
      "name": "python"
    }
  },
  "cells": [
    {
      "cell_type": "markdown",
      "metadata": {
        "id": "view-in-github",
        "colab_type": "text"
      },
      "source": [
        "<a href=\"https://colab.research.google.com/github/jes-coder/Linear-Algebra---58013/blob/main/Python_Exercise_9.ipynb\" target=\"_parent\"><img src=\"https://colab.research.google.com/assets/colab-badge.svg\" alt=\"Open In Colab\"/></a>"
      ]
    },
    {
      "cell_type": "code",
      "execution_count": null,
      "metadata": {
        "id": "ocXOyz2A07LV",
        "colab": {
          "base_uri": "https://localhost:8080/"
        },
        "outputId": "c2bf06a4-a267-407a-b7c4-a52815cac764"
      },
      "outputs": [
        {
          "output_type": "execute_result",
          "data": {
            "text/plain": [
              "3.0000000000000004"
            ]
          },
          "metadata": {},
          "execution_count": 5
        }
      ],
      "source": [
        "# \"Matrix Algebra\"\n",
        "\n",
        "import numpy as np\n",
        "import matplotlib.pyplot as plt\n",
        "%matplotlib inline\n",
        "\n",
        "A = np.array([\n",
        "    [1,4],\n",
        "    [0,3]\n",
        "])\n",
        "np.linalg.det(A)\n",
        "\n"
      ]
    },
    {
      "cell_type": "code",
      "source": [
        "import numpy as np\n",
        "import matplotlib.pyplot as plt\n",
        "%matplotlib inline\n",
        "\n",
        "B = np.array([\n",
        "    [1,3,5,6],\n",
        "    [0,3,1,3],\n",
        "    [3,1,8,2],\n",
        "    [5,2,6,8]\n",
        "])\n",
        "np.linalg.det(B)"
      ],
      "metadata": {
        "colab": {
          "base_uri": "https://localhost:8080/"
        },
        "id": "Vgw5emRP64sy",
        "outputId": "1932ab2d-e292-427b-9252-0f44657fdcf0"
      },
      "execution_count": null,
      "outputs": [
        {
          "output_type": "execute_result",
          "data": {
            "text/plain": [
              "-235.0000000000002"
            ]
          },
          "metadata": {},
          "execution_count": 4
        }
      ]
    },
    {
      "cell_type": "code",
      "source": [
        "# Associative Property (AB)C = A(BC)v\n",
        "\n",
        "import numpy as np\n",
        "\n",
        "# Define matrices A, B, and C\n",
        "A = np.array([[1, 2, 3],\n",
        "              [4, 5, 6],\n",
        "              [7, 8, 9]])\n",
        "\n",
        "B = np.array([[9, 8, 7],\n",
        "              [6, 5, 4],\n",
        "              [3, 2, 1]])\n",
        "\n",
        "C = np.array([[1, 0, 0],\n",
        "              [0, 1, 0],\n",
        "              [0, 0, 1]])\n",
        "\n",
        "# Calculate (AB)C and A(BC)\n",
        "AB_C = np.dot(np.dot(A, B), C)\n",
        "A_BC = np.dot(A, np.dot(B, C))\n",
        "\n",
        "# Compare the results\n",
        "print(\"Result of (AB)C:\")\n",
        "print(AB_C)\n",
        "\n",
        "print(\"\\nResult of A(BC):\")\n",
        "print(A_BC)\n",
        "\n",
        "# Compare if (AB)C is equal to A(BC)\n",
        "print(\"\\nAre (AB)C and A(BC) equal?\", np.array_equal(AB_C, A_BC))\n"
      ],
      "metadata": {
        "colab": {
          "base_uri": "https://localhost:8080/"
        },
        "id": "ki0ScckvoUav",
        "outputId": "c483adc3-0704-4b2a-fbdd-eb2447775f76"
      },
      "execution_count": 1,
      "outputs": [
        {
          "output_type": "stream",
          "name": "stdout",
          "text": [
            "Result of (AB)C:\n",
            "[[ 30  24  18]\n",
            " [ 84  69  54]\n",
            " [138 114  90]]\n",
            "\n",
            "Result of A(BC):\n",
            "[[ 30  24  18]\n",
            " [ 84  69  54]\n",
            " [138 114  90]]\n",
            "\n",
            "Are (AB)C and A(BC) equal? True\n"
          ]
        }
      ]
    },
    {
      "cell_type": "code",
      "source": [
        "# Distributive Property 1 A(B + C) = AB + AC\n",
        "\n",
        "import numpy as np\n",
        "\n",
        "# Define matrices A, B, and C\n",
        "A = np.array([[1, 2, 3],\n",
        "              [4, 5, 6],\n",
        "              [7, 8, 9]])\n",
        "\n",
        "B = np.array([[9, 8, 7],\n",
        "              [6, 5, 4],\n",
        "              [3, 2, 1]])\n",
        "\n",
        "C = np.array([[1, 0, 0],\n",
        "              [0, 1, 0],\n",
        "              [0, 0, 1]])\n",
        "\n",
        "# Calculate B + C\n",
        "B_plus_C = B + C\n",
        "\n",
        "# Calculate A(B + C), AB, and AC\n",
        "AB_plus_AC = np.dot(A, B_plus_C)\n",
        "AB_plus_AC_separate = np.dot(A, B) + np.dot(A, C)\n",
        "\n",
        "# Compare the results\n",
        "print(\"Result of A(B + C):\")\n",
        "print(AB_plus_AC)\n",
        "\n",
        "print(\"\\nResult of AB + AC:\")\n",
        "print(AB_plus_AC_separate)\n",
        "\n",
        "# Compare if A(B + C) is equal to AB + AC\n",
        "print(\"\\nAre A(B + C) and AB + AC equal?\", np.array_equal(AB_plus_AC, AB_plus_AC_separate))\n"
      ],
      "metadata": {
        "colab": {
          "base_uri": "https://localhost:8080/"
        },
        "id": "RRsdHfG_o33D",
        "outputId": "77da0b05-1ba8-47a7-a49f-ca5bde171f6c"
      },
      "execution_count": 2,
      "outputs": [
        {
          "output_type": "stream",
          "name": "stdout",
          "text": [
            "Result of A(B + C):\n",
            "[[ 31  26  21]\n",
            " [ 88  74  60]\n",
            " [145 122  99]]\n",
            "\n",
            "Result of AB + AC:\n",
            "[[ 31  26  21]\n",
            " [ 88  74  60]\n",
            " [145 122  99]]\n",
            "\n",
            "Are A(B + C) and AB + AC equal? True\n"
          ]
        }
      ]
    },
    {
      "cell_type": "code",
      "source": [
        "# Distributive Property 2 (A + B)C = AC + BC\n",
        "\n",
        "import numpy as np\n",
        "\n",
        "# Define matrices A, B, and C\n",
        "A = np.array([[1, 2, 3],\n",
        "              [4, 5, 6],\n",
        "              [7, 8, 9]])\n",
        "\n",
        "B = np.array([[9, 8, 7],\n",
        "              [6, 5, 4],\n",
        "              [3, 2, 1]])\n",
        "\n",
        "C = np.array([[1, 0, 0],\n",
        "              [0, 1, 0],\n",
        "              [0, 0, 1]])\n",
        "\n",
        "# Calculate A + B\n",
        "A_plus_B = A + B\n",
        "\n",
        "# Calculate (A + B)C, AC, and BC\n",
        "A_plus_B_C = np.dot(A_plus_B, C)\n",
        "AC_plus_BC = np.dot(A, C) + np.dot(B, C)\n",
        "\n",
        "# Compare the results\n",
        "print(\"Result of (A + B)C:\")\n",
        "print(A_plus_B_C)\n",
        "\n",
        "print(\"\\nResult of AC + BC:\")\n",
        "print(AC_plus_BC)\n",
        "\n",
        "# Compare if (A + B)C is equal to AC + BC\n",
        "print(\"\\nAre (A + B)C and AC + BC equal?\", np.array_equal(A_plus_B_C, AC_plus_BC))\n"
      ],
      "metadata": {
        "colab": {
          "base_uri": "https://localhost:8080/"
        },
        "id": "xZGzKp4upRTw",
        "outputId": "30a4c5dd-c742-447c-9829-ead250b6bc5a"
      },
      "execution_count": 3,
      "outputs": [
        {
          "output_type": "stream",
          "name": "stdout",
          "text": [
            "Result of (A + B)C:\n",
            "[[10 10 10]\n",
            " [10 10 10]\n",
            " [10 10 10]]\n",
            "\n",
            "Result of AC + BC:\n",
            "[[10 10 10]\n",
            " [10 10 10]\n",
            " [10 10 10]]\n",
            "\n",
            "Are (A + B)C and AC + BC equal? True\n"
          ]
        }
      ]
    },
    {
      "cell_type": "code",
      "source": [
        "# Identity Property IA = A and AI = A (where I is the identity matrix)\n",
        "\n",
        "import numpy as np\n",
        "\n",
        "# Define a matrix A\n",
        "A = np.array([[1, 2, 3],\n",
        "              [4, 5, 6],\n",
        "              [7, 8, 9]])\n",
        "\n",
        "# Create an identity matrix with the same shape as A\n",
        "I = np.eye(A.shape[0])\n",
        "\n",
        "# Calculate IA and AI\n",
        "IA = np.dot(I, A)\n",
        "AI = np.dot(A, I)\n",
        "\n",
        "# Compare the results\n",
        "print(\"Result of IA:\")\n",
        "print(IA)\n",
        "\n",
        "print(\"\\nResult of AI:\")\n",
        "print(AI)\n",
        "\n",
        "# Compare if IA and AI are equal to A\n",
        "print(\"\\nIs IA equal to A?\", np.array_equal(IA, A))\n",
        "print(\"Is AI equal to A?\", np.array_equal(AI, A))\n"
      ],
      "metadata": {
        "colab": {
          "base_uri": "https://localhost:8080/"
        },
        "id": "T2xs-NOxpYxg",
        "outputId": "af08c4e4-6862-49bb-e24d-879e33b204e2"
      },
      "execution_count": 4,
      "outputs": [
        {
          "output_type": "stream",
          "name": "stdout",
          "text": [
            "Result of IA:\n",
            "[[1. 2. 3.]\n",
            " [4. 5. 6.]\n",
            " [7. 8. 9.]]\n",
            "\n",
            "Result of AI:\n",
            "[[1. 2. 3.]\n",
            " [4. 5. 6.]\n",
            " [7. 8. 9.]]\n",
            "\n",
            "Is IA equal to A? True\n",
            "Is AI equal to A? True\n"
          ]
        }
      ]
    },
    {
      "cell_type": "code",
      "source": [
        "# Zero Property 0A = 0 (where 0 is the zero matrix)\n",
        "\n",
        "import numpy as np\n",
        "\n",
        "# Define a matrix A\n",
        "A = np.array([[1, 2, 3],\n",
        "              [4, 5, 6],\n",
        "              [7, 8, 9]])\n",
        "\n",
        "# Create a zero matrix with the same shape as A\n",
        "zero_matrix = np.zeros(A.shape)\n",
        "\n",
        "# Calculate 0A\n",
        "zeroA = np.dot(zero_matrix, A)\n",
        "\n",
        "# Verify if the result is a zero matrix\n",
        "print(\"Result of 0A:\")\n",
        "print(zeroA)\n"
      ],
      "metadata": {
        "colab": {
          "base_uri": "https://localhost:8080/"
        },
        "id": "EEf2KW_QplHZ",
        "outputId": "69b23f88-73c0-4108-b99c-d903a3d575ae"
      },
      "execution_count": 5,
      "outputs": [
        {
          "output_type": "stream",
          "name": "stdout",
          "text": [
            "Result of 0A:\n",
            "[[0. 0. 0.]\n",
            " [0. 0. 0.]\n",
            " [0. 0. 0.]]\n"
          ]
        }
      ]
    },
    {
      "cell_type": "code",
      "source": [
        "# Scalar Multiplication Property c(AB) = (cA)B = A(cB)\n",
        "\n",
        "import numpy as np\n",
        "\n",
        "# Define matrices A and B, and a scalar constant c\n",
        "A = np.array([[1, 2, 3],\n",
        "              [4, 5, 6],\n",
        "              [7, 8, 9]])\n",
        "\n",
        "B = np.array([[9, 8, 7],\n",
        "              [6, 5, 4],\n",
        "              [3, 2, 1]])\n",
        "\n",
        "c = 2\n",
        "\n",
        "# Calculate c(AB), (cA)B, and A(cB)\n",
        "cAB = c * np.dot(A, B)\n",
        "cA_B = np.dot(c * A, B)\n",
        "A_cB = np.dot(A, c * B)\n",
        "\n",
        "# Compare the results\n",
        "print(\"Result of c(AB):\")\n",
        "print(cAB)\n",
        "\n",
        "print(\"\\nResult of (cA)B:\")\n",
        "print(cA_B)\n",
        "\n",
        "print(\"\\nResult of A(cB):\")\n",
        "print(A_cB)\n",
        "\n",
        "# Compare if c(AB), (cA)B, and A(cB) are equal\n",
        "print(\"\\nAre c(AB), (cA)B, and A(cB) equal?\",\n",
        "      np.array_equal(cAB, cA_B) and np.array_equal(cAB, A_cB))\n"
      ],
      "metadata": {
        "colab": {
          "base_uri": "https://localhost:8080/"
        },
        "id": "yzOi3Fkyptxh",
        "outputId": "2050c7cc-0c93-4e89-aee7-4b4be3000a50"
      },
      "execution_count": 6,
      "outputs": [
        {
          "output_type": "stream",
          "name": "stdout",
          "text": [
            "Result of c(AB):\n",
            "[[ 60  48  36]\n",
            " [168 138 108]\n",
            " [276 228 180]]\n",
            "\n",
            "Result of (cA)B:\n",
            "[[ 60  48  36]\n",
            " [168 138 108]\n",
            " [276 228 180]]\n",
            "\n",
            "Result of A(cB):\n",
            "[[ 60  48  36]\n",
            " [168 138 108]\n",
            " [276 228 180]]\n",
            "\n",
            "Are c(AB), (cA)B, and A(cB) equal? True\n"
          ]
        }
      ]
    }
  ]
}