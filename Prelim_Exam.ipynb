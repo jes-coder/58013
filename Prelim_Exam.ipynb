{
  "nbformat": 4,
  "nbformat_minor": 0,
  "metadata": {
    "colab": {
      "provenance": [],
      "authorship_tag": "ABX9TyPQYVnDVtuzmC8nUk+SsE5v",
      "include_colab_link": true
    },
    "kernelspec": {
      "name": "python3",
      "display_name": "Python 3"
    },
    "language_info": {
      "name": "python"
    }
  },
  "cells": [
    {
      "cell_type": "markdown",
      "metadata": {
        "id": "view-in-github",
        "colab_type": "text"
      },
      "source": [
        "<a href=\"https://colab.research.google.com/github/jes-coder/Linear-Algebra---58013/blob/main/Prelim_Exam.ipynb\" target=\"_parent\"><img src=\"https://colab.research.google.com/assets/colab-badge.svg\" alt=\"Open In Colab\"/></a>"
      ]
    },
    {
      "cell_type": "code",
      "source": [
        "#Question 1. (20 points) Create a Multiplication Table/Chart of 1 to 10 using numpy/ python program.\n",
        "\n",
        "import numpy as np\n",
        "\n",
        "def multiplication_table(n):\n",
        "#Create a range of numbers from 1 to n\n",
        "    numbers = np.arange(1, n+1)\n",
        "\n",
        "#Create a mesh grid for multiplication\n",
        "    table = np.meshgrid(numbers, numbers)\n",
        "\n",
        "#Multiply the elements\n",
        "    result = table[0] * table[1]\n",
        "\n",
        "    return result\n",
        "\n",
        "n = 10\n",
        "\n",
        "table = multiplication_table(n)\n",
        "for row in table:\n",
        "    print(row)\n"
      ],
      "metadata": {
        "colab": {
          "base_uri": "https://localhost:8080/"
        },
        "id": "Gmdg14RFv2Yb",
        "outputId": "c8163d56-1c27-4b72-e376-117196532c8c"
      },
      "execution_count": 2,
      "outputs": [
        {
          "output_type": "stream",
          "name": "stdout",
          "text": [
            "[ 1  2  3  4  5  6  7  8  9 10]\n",
            "[ 2  4  6  8 10 12 14 16 18 20]\n",
            "[ 3  6  9 12 15 18 21 24 27 30]\n",
            "[ 4  8 12 16 20 24 28 32 36 40]\n",
            "[ 5 10 15 20 25 30 35 40 45 50]\n",
            "[ 6 12 18 24 30 36 42 48 54 60]\n",
            "[ 7 14 21 28 35 42 49 56 63 70]\n",
            "[ 8 16 24 32 40 48 56 64 72 80]\n",
            "[ 9 18 27 36 45 54 63 72 81 90]\n",
            "[ 10  20  30  40  50  60  70  80  90 100]\n"
          ]
        }
      ]
    },
    {
      "cell_type": "code",
      "source": [
        "#Question 2. (10 points) In relation to Question 1, show a solution that doubles all the values of each element.\n",
        "\n",
        "import numpy as np\n",
        "\n",
        "def multiplication_table(n):\n",
        "#Create a range of numbers from 1 to n\n",
        "    numbers = np.arange(1, n+1)\n",
        "\n",
        "#Create a mesh grid for multiplication\n",
        "    table = np.meshgrid(numbers, numbers)\n",
        "\n",
        "#Multiply the elements\n",
        "    result = table[0] * table[1]\n",
        "\n",
        "#Double all the values\n",
        "    doubled_result = result * 2\n",
        "\n",
        "    return doubled_result\n",
        "\n",
        "n = 10\n",
        "\n",
        "doubled_table = multiplication_table(n)\n",
        "\n",
        "for row in doubled_table:\n",
        "    print(row)\n"
      ],
      "metadata": {
        "colab": {
          "base_uri": "https://localhost:8080/"
        },
        "id": "FHGxpa-EwepC",
        "outputId": "a179a0c2-b8f1-42f9-cd08-c3b8d884ea82"
      },
      "execution_count": 3,
      "outputs": [
        {
          "output_type": "stream",
          "name": "stdout",
          "text": [
            "[ 2  4  6  8 10 12 14 16 18 20]\n",
            "[ 4  8 12 16 20 24 28 32 36 40]\n",
            "[ 6 12 18 24 30 36 42 48 54 60]\n",
            "[ 8 16 24 32 40 48 56 64 72 80]\n",
            "[ 10  20  30  40  50  60  70  80  90 100]\n",
            "[ 12  24  36  48  60  72  84  96 108 120]\n",
            "[ 14  28  42  56  70  84  98 112 126 140]\n",
            "[ 16  32  48  64  80  96 112 128 144 160]\n",
            "[ 18  36  54  72  90 108 126 144 162 180]\n",
            "[ 20  40  60  80 100 120 140 160 180 200]\n"
          ]
        }
      ]
    },
    {
      "cell_type": "code",
      "source": [
        "#Question 3. (10 points) Create a square matrix that has a diagonal 1's.\n",
        "\n",
        "import numpy as np\n",
        "\n",
        "def create_diagonal_matrix(n):\n",
        "#Create an n x n matrix with all elements set to 0\n",
        "    matrix = np.zeros((n, n))\n",
        "\n",
        "#Set diagonal elements to 1\n",
        "    np.fill_diagonal(matrix, 1)\n",
        "\n",
        "    return matrix\n",
        "\n",
        "n = 5\n",
        "diagonal_matrix = create_diagonal_matrix(n)\n",
        "print(diagonal_matrix)"
      ],
      "metadata": {
        "colab": {
          "base_uri": "https://localhost:8080/"
        },
        "id": "CuQcLpflv4wx",
        "outputId": "44c1e6e3-ee1a-4a4a-e9d1-768efa35bcf1"
      },
      "execution_count": 5,
      "outputs": [
        {
          "output_type": "stream",
          "name": "stdout",
          "text": [
            "[[1. 0. 0. 0. 0.]\n",
            " [0. 1. 0. 0. 0.]\n",
            " [0. 0. 1. 0. 0.]\n",
            " [0. 0. 0. 1. 0.]\n",
            " [0. 0. 0. 0. 1.]]\n"
          ]
        }
      ]
    },
    {
      "cell_type": "code",
      "source": [
        "#Question 4. (30 points) Create a matrix whose elements are:\n",
        "#matrix = np.array([[1, 2, 3, 4],\n",
        "                   #[5, 6, 7, 8],\n",
        "                   #[9, 10, 11, 12]])\n",
        "#Type a python program that can view the size, shape, and dimension of the matrix above.\n",
        "\n",
        "import numpy as np\n",
        "\n",
        "matrix = np.array([[1, 2, 3, 4],\n",
        "                   [5, 6, 7, 8],\n",
        "                   [9, 10, 11, 12]])\n",
        "\n",
        "#size of the matrix\n",
        "size = matrix.size\n",
        "\n",
        "#shape of the matrix\n",
        "shape = matrix.shape\n",
        "\n",
        "#number of dimensions of the matrix\n",
        "dimensions = matrix.ndim\n",
        "\n",
        "print(f\"Size of the matrix: {size}\")\n",
        "print(f\"Shape of the matrix: {shape}\")\n",
        "print(f\"Number of dimensions: {dimensions}\")"
      ],
      "metadata": {
        "colab": {
          "base_uri": "https://localhost:8080/"
        },
        "id": "umJxVaK0v7-3",
        "outputId": "33c7cf6d-d26d-4fb1-c01c-0f5011e68141"
      },
      "execution_count": 7,
      "outputs": [
        {
          "output_type": "stream",
          "name": "stdout",
          "text": [
            "Size of the matrix: 12\n",
            "Shape of the matrix: (3, 4)\n",
            "Number of dimensions: 2\n"
          ]
        }
      ]
    },
    {
      "cell_type": "code",
      "source": [
        "#Question 5. (30 points) Create a result array by adding the following two NumPy arrays. Next, modify the result array by calculating the square of each element.\n",
        "\n",
        "import numpy as np\n",
        "\n",
        "arrayOne = np.array([[5, 6, 9], [21, 18, 27]])\n",
        "arrayTwo = np.array([[15, 33, 24], [4, 7, 1]])\n",
        "\n",
        "#Adding two arrays\n",
        "result_array = arrayOne + arrayTwo\n",
        "\n",
        "#Calculate the square of each element in the result array\n",
        "result_array_squared = np.square(result_array)\n",
        "\n",
        "#result array\n",
        "print(\"Result Array:\")\n",
        "print(result_array)\n",
        "\n",
        "#result array with squared elements\n",
        "print(\"\\nResult Array with Squared Elements:\")\n",
        "print(result_array_squared)\n"
      ],
      "metadata": {
        "colab": {
          "base_uri": "https://localhost:8080/"
        },
        "id": "dDMvPjQpwN59",
        "outputId": "30267e94-de4a-4e2a-a461-2770d394410c"
      },
      "execution_count": 9,
      "outputs": [
        {
          "output_type": "stream",
          "name": "stdout",
          "text": [
            "Result Array:\n",
            "[[20 39 33]\n",
            " [25 25 28]]\n",
            "\n",
            "Result Array with Squared Elements:\n",
            "[[ 400 1521 1089]\n",
            " [ 625  625  784]]\n"
          ]
        }
      ]
    }
  ]
}