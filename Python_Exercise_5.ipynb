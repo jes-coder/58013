{
  "nbformat": 4,
  "nbformat_minor": 0,
  "metadata": {
    "colab": {
      "provenance": [],
      "authorship_tag": "ABX9TyP4fnAMrSqJAYgUIY1Rs/Yy",
      "include_colab_link": true
    },
    "kernelspec": {
      "name": "python3",
      "display_name": "Python 3"
    },
    "language_info": {
      "name": "python"
    }
  },
  "cells": [
    {
      "cell_type": "markdown",
      "metadata": {
        "id": "view-in-github",
        "colab_type": "text"
      },
      "source": [
        "<a href=\"https://colab.research.google.com/github/jes-coder/Linear-Algebra---58013/blob/main/Python_Exercise_5.ipynb\" target=\"_parent\"><img src=\"https://colab.research.google.com/assets/colab-badge.svg\" alt=\"Open In Colab\"/></a>"
      ]
    },
    {
      "cell_type": "code",
      "execution_count": 4,
      "metadata": {
        "colab": {
          "base_uri": "https://localhost:8080/"
        },
        "id": "5fsQRTAnBa4z",
        "outputId": "82c91c45-4a7e-43fe-9a28-f5cb10c618f9"
      },
      "outputs": [
        {
          "output_type": "stream",
          "name": "stdout",
          "text": [
            "[ 5 25 40 45]\n",
            "[ 5 25 40 45]\n"
          ]
        }
      ],
      "source": [
        "# In the first snippet, S is calculated by multiplying each element of A by 5.\n",
        "# In the second snippet, np.multiply() is used to achieve the same result.\n",
        "\n",
        "import numpy as np\n",
        "\n",
        "A = np.array([1, 5, 8, 9])\n",
        "S = 5 * A\n",
        "print(S)\n",
        "\n",
        "S = np.multiply(5, A)\n",
        "print(S)\n",
        "\n",
        "\n"
      ]
    },
    {
      "cell_type": "code",
      "source": [
        "#This code calculates the dot product of vectors a and b using np.dot().\n",
        "\n",
        "import numpy as np\n",
        "\n",
        "a = [5, 10, 2]\n",
        "b = [2, 4, 3]\n",
        "dotproduct = np.dot(a, b)\n",
        "print('Dot product is:', dotproduct)\n"
      ],
      "metadata": {
        "colab": {
          "base_uri": "https://localhost:8080/"
        },
        "id": "WNy3xEB1CNWJ",
        "outputId": "58a3f6cc-fa70-4a52-fab4-809d8d2f1d26"
      },
      "execution_count": 1,
      "outputs": [
        {
          "output_type": "stream",
          "name": "stdout",
          "text": [
            "Dot product is: 56\n"
          ]
        }
      ]
    },
    {
      "cell_type": "code",
      "source": [
        "#This code computes the cross product of vectors p and q using np.cross().\n",
        "\n",
        "import numpy as np\n",
        "\n",
        "p = [4, 2]\n",
        "q = [5, 6]\n",
        "product = np.cross(p, q)\n",
        "print(product)\n"
      ],
      "metadata": {
        "colab": {
          "base_uri": "https://localhost:8080/"
        },
        "id": "n0ZMCktJCrPS",
        "outputId": "7b5b9363-9f2a-41ce-ae0a-c7b0a5724f6b"
      },
      "execution_count": 2,
      "outputs": [
        {
          "output_type": "stream",
          "name": "stdout",
          "text": [
            "14\n"
          ]
        }
      ]
    }
  ]
}